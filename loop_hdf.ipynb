{
 "cells": [
  {
   "cell_type": "code",
   "execution_count": 4,
   "metadata": {},
   "outputs": [
    {
     "data": {
      "text/plain": [
       "32067"
      ]
     },
     "execution_count": 4,
     "metadata": {},
     "output_type": "execute_result"
    }
   ],
   "source": [
    "import pyhdf.SD as sds\n",
    "import pandas as pd\n",
    "import os\n",
    "from datetime import datetime\n",
    "from IPython.display import clear_output\n",
    "\n",
    "# 7,5 km\n",
    "#Manaus_EMBRAPA -2.954minlat -2.828maxlat -60.033minlong -59.907maxlong\n",
    "#Rio Branco (9.957S, 67.869W) -10.02minlat -9.894maxlat -67.932minlong -67.806maxlong\n",
    "#Ji_Parana_SE (10.934S, 61.852W) -10.997minlat -10.871maxlat -61.915minlong -61.789maxlong\n",
    "\n",
    "# 12,5 km\n",
    "#Manaus_EMBRAPA (2.9S, 60.0W) -3.0123minlat -2.7877maxlat -60.1124minlong -59.8876maxlong\n",
    "#Rio Branco (9.957S, 67.869W) -10.0693minlat  -9.8447maxlat -67.9829minlong -67.7551maxlong\n",
    "#Ji_Parana_SE (10.934S, 61.852W) -11.0463minlat -10.8217maxlat -61.9664minlong -61.7376maxlong\n",
    "\n",
    "# 17,5 km\n",
    "\n",
    "\n",
    "# 22,5 km\n",
    "\n",
    "\n",
    "# 27,5 km\n",
    "\n",
    "min_lat = -3.0123\n",
    "max_lat = -2.7877\n",
    "min_long = -60.1124\n",
    "max_long = -59.8876\n",
    "\n",
    "folder_path = \"/run/media/lucas/TOSHIBA EXT/Arquivos_MODIS/MOD043K/\"\n",
    "\n",
    "files = [file for file in os.listdir(folder_path) if file.endswith('.hdf')]\n",
    "n_files = len(files)\n",
    "n_files"
   ]
  },
  {
   "cell_type": "code",
   "execution_count": 5,
   "metadata": {},
   "outputs": [
    {
     "name": "stdout",
     "output_type": "stream",
     "text": [
      "32067 of 32067 done.\n"
     ]
    }
   ],
   "source": [
    "output_values = []\n",
    "counter = 0\n",
    "for file in files:\n",
    "    file_path = os.path.join(folder_path, file)\n",
    "\n",
    "    hdf = sds.SD(file_path, sds.SDC.READ)\n",
    "\n",
    "    AOD = hdf.select('Optical_Depth_Land_And_Ocean')[:]\n",
    "    Longitude = hdf.select('Longitude')[:]\n",
    "    Latitude = hdf.select('Latitude')[:]\n",
    "\n",
    "    df = pd.DataFrame()\n",
    "    df['AOD'] = AOD.flatten()\n",
    "    df['Longitude'] = Longitude.flatten()\n",
    "    df['Latitude'] = Latitude.flatten()\n",
    "\n",
    "    filtered_df = df.copy()\n",
    "    filtered_df = df[df['AOD'] != -9999]\n",
    "    filtered_df = filtered_df.query('Latitude >= @min_lat and Latitude <= @max_lat and Longitude >= @min_long and Longitude <= @max_long')\n",
    "\n",
    "    mean_aod = filtered_df.AOD.mean() * 0.001\n",
    "    output_values.append(mean_aod)\n",
    "\n",
    "    clear_output()\n",
    "    counter+=1\n",
    "    print(f\"{counter} of {n_files} done.\")\n"
   ]
  },
  {
   "cell_type": "code",
   "execution_count": 6,
   "metadata": {},
   "outputs": [],
   "source": [
    "def julian_with_year_to_date(julian_date_with_year):\n",
    "    return datetime.strptime(str(julian_date_with_year), '%Y%j').date()\n",
    "\n",
    "dates = []\n",
    "\n",
    "for f in files:\n",
    "    year = f[10:14]\n",
    "    day = f[14:17]\n",
    "    dates.append(julian_with_year_to_date(f'{year}{day}'))"
   ]
  },
  {
   "cell_type": "code",
   "execution_count": 7,
   "metadata": {},
   "outputs": [],
   "source": [
    "final_df = pd.DataFrame()\n",
    "\n",
    "final_df['date'] = dates\n",
    "final_df['AOD'] = output_values\n",
    "\n",
    "final_df.to_csv('MOD043ktemporal_serie_Manaus_Embrapa_aod2010_2023.csv')"
   ]
  },
  {
   "cell_type": "code",
   "execution_count": 9,
   "metadata": {},
   "outputs": [
    {
     "data": {
      "text/html": [
       "<div>\n",
       "<style scoped>\n",
       "    .dataframe tbody tr th:only-of-type {\n",
       "        vertical-align: middle;\n",
       "    }\n",
       "\n",
       "    .dataframe tbody tr th {\n",
       "        vertical-align: top;\n",
       "    }\n",
       "\n",
       "    .dataframe thead th {\n",
       "        text-align: right;\n",
       "    }\n",
       "</style>\n",
       "<table border=\"1\" class=\"dataframe\">\n",
       "  <thead>\n",
       "    <tr style=\"text-align: right;\">\n",
       "      <th></th>\n",
       "      <th>Unnamed: 0</th>\n",
       "      <th>date</th>\n",
       "      <th>AOD</th>\n",
       "    </tr>\n",
       "  </thead>\n",
       "  <tbody>\n",
       "    <tr>\n",
       "      <th>32062</th>\n",
       "      <td>32062</td>\n",
       "      <td>2023-07-29</td>\n",
       "      <td>NaN</td>\n",
       "    </tr>\n",
       "    <tr>\n",
       "      <th>32063</th>\n",
       "      <td>32063</td>\n",
       "      <td>2023-07-29</td>\n",
       "      <td>0.132543</td>\n",
       "    </tr>\n",
       "    <tr>\n",
       "      <th>32064</th>\n",
       "      <td>32064</td>\n",
       "      <td>2023-07-29</td>\n",
       "      <td>NaN</td>\n",
       "    </tr>\n",
       "    <tr>\n",
       "      <th>32065</th>\n",
       "      <td>32065</td>\n",
       "      <td>2023-07-29</td>\n",
       "      <td>NaN</td>\n",
       "    </tr>\n",
       "    <tr>\n",
       "      <th>32066</th>\n",
       "      <td>32066</td>\n",
       "      <td>2023-07-29</td>\n",
       "      <td>NaN</td>\n",
       "    </tr>\n",
       "  </tbody>\n",
       "</table>\n",
       "</div>"
      ],
      "text/plain": [
       "       Unnamed: 0        date       AOD\n",
       "32062       32062  2023-07-29       NaN\n",
       "32063       32063  2023-07-29  0.132543\n",
       "32064       32064  2023-07-29       NaN\n",
       "32065       32065  2023-07-29       NaN\n",
       "32066       32066  2023-07-29       NaN"
      ]
     },
     "execution_count": 9,
     "metadata": {},
     "output_type": "execute_result"
    }
   ],
   "source": [
    "df = pd.read_csv(\"MOD043ktemporal_serie_Manaus_Embrapa_aod2010_2023.csv\")\n",
    "df.tail()"
   ]
  }
 ],
 "metadata": {
  "kernelspec": {
   "display_name": "env01",
   "language": "python",
   "name": "python3"
  },
  "language_info": {
   "codemirror_mode": {
    "name": "ipython",
    "version": 3
   },
   "file_extension": ".py",
   "mimetype": "text/x-python",
   "name": "python",
   "nbconvert_exporter": "python",
   "pygments_lexer": "ipython3",
   "version": "3.10.13"
  },
  "orig_nbformat": 4
 },
 "nbformat": 4,
 "nbformat_minor": 2
}
