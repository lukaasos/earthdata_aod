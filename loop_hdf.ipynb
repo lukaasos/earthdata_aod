{
 "cells": [
  {
   "cell_type": "code",
   "execution_count": 1,
   "metadata": {},
   "outputs": [
    {
     "data": {
      "text/plain": [
       "11"
      ]
     },
     "execution_count": 1,
     "metadata": {},
     "output_type": "execute_result"
    }
   ],
   "source": [
    "import pyhdf.SD as sds\n",
    "import pandas as pd\n",
    "import os\n",
    "from datetime import datetime\n",
    "from IPython.display import clear_output\n",
    "\n",
    "# 7,5 km\n",
    "#Manaus_EMBRAPA -2.954minlat -2.828maxlat -60.033minlong -59.907maxlong\n",
    "#Rio Branco (9.957S, 67.869W) -10.02minlat -9.894maxlat -67.932minlong -67.806maxlong\n",
    "#Ji_Parana_SE (10.934S, 61.852W) -10.997minlat -10.871maxlat -61.915minlong -61.789maxlong\n",
    "\n",
    "\n",
    "min_lat = -2.954\n",
    "max_lat = -2.828\n",
    "min_long = -60.033\n",
    "max_long = -59.907\n",
    "\n",
    "folder_path = \"teste\"\n",
    "\n",
    "files = [file for file in os.listdir(folder_path) if file.endswith('.hdf')]\n",
    "n_files = len(files)\n",
    "n_files"
   ]
  },
  {
   "cell_type": "code",
   "execution_count": 2,
   "metadata": {},
   "outputs": [
    {
     "name": "stdout",
     "output_type": "stream",
     "text": [
      "11 of 11 done.\n"
     ]
    }
   ],
   "source": [
    "output_values = []\n",
    "counter = 0\n",
    "for file in files:\n",
    "    file_path = os.path.join(folder_path, file)\n",
    "\n",
    "    hdf = sds.SD(file_path, sds.SDC.READ)\n",
    "\n",
    "    AOD = hdf.select('Optical_Depth_Land_And_Ocean')[:]\n",
    "    Longitude = hdf.select('Longitude')[:]\n",
    "    Latitude = hdf.select('Latitude')[:]\n",
    "\n",
    "    df = pd.DataFrame()\n",
    "    df['AOD'] = AOD.flatten()\n",
    "    df['Longitude'] = Longitude.flatten()\n",
    "    df['Latitude'] = Latitude.flatten()\n",
    "\n",
    "    filtered_df = df.copy()\n",
    "    filtered_df = df[df['AOD'] != -9999]\n",
    "    filtered_df = filtered_df.query('Latitude >= @min_lat and Latitude <= @max_lat and Longitude >= @min_long and Longitude <= @max_long')\n",
    "\n",
    "    mean_aod = filtered_df.AOD.mean() * 0.001\n",
    "    output_values.append(mean_aod)\n",
    "\n",
    "    clear_output()\n",
    "    counter+=1\n",
    "    print(f\"{counter} of {n_files} done.\")\n"
   ]
  },
  {
   "cell_type": "code",
   "execution_count": 3,
   "metadata": {},
   "outputs": [],
   "source": [
    "def julian_with_year_to_date(julian_date_with_year):\n",
    "    return datetime.strptime(str(julian_date_with_year), '%Y%j').date()\n",
    "\n",
    "dates = []\n",
    "\n",
    "for f in files:\n",
    "    year = f[10:14]\n",
    "    day = f[14:17]\n",
    "    dates.append(julian_with_year_to_date(f'{year}{day}'))"
   ]
  },
  {
   "cell_type": "code",
   "execution_count": 4,
   "metadata": {},
   "outputs": [],
   "source": [
    "final_df = pd.DataFrame()\n",
    "\n",
    "final_df['date'] = dates\n",
    "final_df['AOD'] = output_values\n",
    "\n",
    "final_df.to_csv('MOD043K_teste.csv')"
   ]
  },
  {
   "cell_type": "code",
   "execution_count": 5,
   "metadata": {},
   "outputs": [
    {
     "data": {
      "text/html": [
       "<div>\n",
       "<style scoped>\n",
       "    .dataframe tbody tr th:only-of-type {\n",
       "        vertical-align: middle;\n",
       "    }\n",
       "\n",
       "    .dataframe tbody tr th {\n",
       "        vertical-align: top;\n",
       "    }\n",
       "\n",
       "    .dataframe thead th {\n",
       "        text-align: right;\n",
       "    }\n",
       "</style>\n",
       "<table border=\"1\" class=\"dataframe\">\n",
       "  <thead>\n",
       "    <tr style=\"text-align: right;\">\n",
       "      <th></th>\n",
       "      <th>Unnamed: 0</th>\n",
       "      <th>date</th>\n",
       "      <th>AOD</th>\n",
       "    </tr>\n",
       "  </thead>\n",
       "  <tbody>\n",
       "    <tr>\n",
       "      <th>6</th>\n",
       "      <td>6</td>\n",
       "      <td>2010-02-04</td>\n",
       "      <td>NaN</td>\n",
       "    </tr>\n",
       "    <tr>\n",
       "      <th>7</th>\n",
       "      <td>7</td>\n",
       "      <td>2010-02-04</td>\n",
       "      <td>NaN</td>\n",
       "    </tr>\n",
       "    <tr>\n",
       "      <th>8</th>\n",
       "      <td>8</td>\n",
       "      <td>2010-02-05</td>\n",
       "      <td>NaN</td>\n",
       "    </tr>\n",
       "    <tr>\n",
       "      <th>9</th>\n",
       "      <td>9</td>\n",
       "      <td>2010-02-04</td>\n",
       "      <td>NaN</td>\n",
       "    </tr>\n",
       "    <tr>\n",
       "      <th>10</th>\n",
       "      <td>10</td>\n",
       "      <td>2010-02-05</td>\n",
       "      <td>NaN</td>\n",
       "    </tr>\n",
       "  </tbody>\n",
       "</table>\n",
       "</div>"
      ],
      "text/plain": [
       "    Unnamed: 0        date  AOD\n",
       "6            6  2010-02-04  NaN\n",
       "7            7  2010-02-04  NaN\n",
       "8            8  2010-02-05  NaN\n",
       "9            9  2010-02-04  NaN\n",
       "10          10  2010-02-05  NaN"
      ]
     },
     "execution_count": 5,
     "metadata": {},
     "output_type": "execute_result"
    }
   ],
   "source": [
    "df = pd.read_csv(\"MOD043K_teste.csv\")\n",
    "df.tail()"
   ]
  }
 ],
 "metadata": {
  "kernelspec": {
   "display_name": "env01",
   "language": "python",
   "name": "python3"
  },
  "language_info": {
   "codemirror_mode": {
    "name": "ipython",
    "version": 3
   },
   "file_extension": ".py",
   "mimetype": "text/x-python",
   "name": "python",
   "nbconvert_exporter": "python",
   "pygments_lexer": "ipython3",
   "version": "3.10.13"
  },
  "orig_nbformat": 4
 },
 "nbformat": 4,
 "nbformat_minor": 2
}
